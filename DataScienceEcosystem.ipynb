{
 "cells": [
  {
   "cell_type": "markdown",
   "id": "57756e25-c887-4758-a796-f683275542ba",
   "metadata": {},
   "source": [
    "# Data Science Tools and Ecosystem"
   ]
  },
  {
   "cell_type": "markdown",
   "id": "34bc5c55-a47b-4f05-923e-23b31abebe3c",
   "metadata": {},
   "source": [
    "In this notebook, an overview of the Data Science Tools and Ecosystem is provided, summarizing key components and resources essential for practitioners in the field of data science.\n"
   ]
  },
  {
   "cell_type": "markdown",
   "id": "ecc05e1f-02f8-4ac2-b34b-342483022eda",
   "metadata": {},
   "source": [
    "## Data Science Languages\n",
    "\n",
    "Some of the popular languages that Data Scientists use are:\n",
    "\n",
    "1. Python\n",
    "2. R\n",
    "3. SQL\n"
   ]
  },
  {
   "cell_type": "markdown",
   "id": "b6ff6d3a-8b63-4f2d-ad98-5202a1e0191b",
   "metadata": {},
   "source": [
    "## Data Science Libraries\n",
    "\n",
    "Some of the commonly used libraries used by Data Scientists include:\n",
    "\n",
    "1. NumPy\n",
    "2. Pandas\n",
    "3. Matplotlib\n"
   ]
  },
  {
   "cell_type": "markdown",
   "id": "3a4a4ab5-5109-4e7e-9768-69e24ce0190e",
   "metadata": {},
   "source": [
    "## Data Science Tools\n",
    "\n",
    "| Data Science Tools |\n",
    "|--------------------|\n",
    "| Jupyter Notebook   |\n",
    "| RStudio            |\n",
    "| Spyder             |\n"
   ]
  },
  {
   "cell_type": "markdown",
   "id": "b704c950-5c75-4e70-b0eb-7e1cf857e0c9",
   "metadata": {},
   "source": [
    "### Arithmetic Expression Examples\n",
    "\n",
    "Below are a few examples of evaluating arithmetic expressions in Python.\n"
   ]
  },
  {
   "cell_type": "code",
   "execution_count": 1,
   "id": "9710498f-ec88-4a45-a341-30c5dc4d1a0a",
   "metadata": {},
   "outputs": [
    {
     "data": {
      "text/plain": [
       "17"
      ]
     },
     "execution_count": 1,
     "metadata": {},
     "output_type": "execute_result"
    }
   ],
   "source": [
    "# This is a simple arithmetic expression to multiply then add integers.\n",
    "result = (3 * 4) + 5\n",
    "result\n"
   ]
  },
  {
   "cell_type": "code",
   "execution_count": 2,
   "id": "daff7d16-ced5-4034-9c0a-2f46294ad917",
   "metadata": {},
   "outputs": [
    {
     "data": {
      "text/plain": [
       "3.3333333333333335"
      ]
     },
     "execution_count": 2,
     "metadata": {},
     "output_type": "execute_result"
    }
   ],
   "source": [
    "# This will convert 200 minutes to hours by dividing by 60.\n",
    "minutes = 200\n",
    "hours = minutes / 60\n",
    "hours\n"
   ]
  },
  {
   "cell_type": "raw",
   "id": "d0d1ddb6-00c4-4c09-8f57-c02f535429d1",
   "metadata": {},
   "source": []
  },
  {
   "cell_type": "markdown",
   "id": "1ba936cd-3ed0-4a1f-8663-a055ce9bb468",
   "metadata": {},
   "source": [
    "**Objectives:**\n",
    "\n",
    "- List popular languages for Data Science.\n",
    "- Introduce commonly used libraries in Data Science.\n",
    "- Provide examples of arithmetic expressions in Python.\n",
    "- Demonstrate conversion of minutes to hours in Python.\n"
   ]
  },
  {
   "cell_type": "raw",
   "id": "98e10214-9e29-492c-a168-e45bb1a448ac",
   "metadata": {},
   "source": []
  },
  {
   "cell_type": "markdown",
   "id": "d9156c64-7be9-455f-b427-3ffd6dd3e424",
   "metadata": {},
   "source": [
    "## Author\n",
    "\n",
    "Md. Ammaar Quadri"
   ]
  }
 ],
 "metadata": {
  "kernelspec": {
   "display_name": "Python 3 (ipykernel)",
   "language": "python",
   "name": "python3"
  },
  "language_info": {
   "codemirror_mode": {
    "name": "ipython",
    "version": 3
   },
   "file_extension": ".py",
   "mimetype": "text/x-python",
   "name": "python",
   "nbconvert_exporter": "python",
   "pygments_lexer": "ipython3",
   "version": "3.12.2"
  }
 },
 "nbformat": 4,
 "nbformat_minor": 5
}
